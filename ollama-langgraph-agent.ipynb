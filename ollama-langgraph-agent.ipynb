{
 "cells": [
  {
   "cell_type": "code",
   "execution_count": 1,
   "metadata": {},
   "outputs": [],
   "source": [
    "from langgraph.prebuilt import ToolNode\n",
    "\n",
    "\n",
    "def weather_forecast(location: str) -> str:\n",
    "    \"\"\"This function provides the weather forecast.\n",
    "\n",
    "    Args:\n",
    "        location: (str) weather forecast location.\n",
    "    \"\"\"\n",
    "    return f\"The weather in {location} is 36 degrees sunny.\"\n",
    "\n",
    "\n",
    "def get_the_time(location: str) -> str:\n",
    "    \"\"\"This tool provides the time for a given location.\n",
    "\n",
    "    Args:\n",
    "    location: (str) the location to get the time.\n",
    "    \"\"\"\n",
    "    return f\"Response: The time in {location} is 6pm.\"\n",
    "\n",
    "\n",
    "tools = [weather_forecast, get_the_time]\n",
    "\n",
    "tool_node = ToolNode(tools)"
   ]
  },
  {
   "cell_type": "code",
   "execution_count": 2,
   "metadata": {},
   "outputs": [],
   "source": [
    "from langchain_ollama import ChatOllama\n",
    "\n",
    "llm = ChatOllama(model=\"llama3.1\", temperature=0).bind_tools(tools)"
   ]
  },
  {
   "cell_type": "markdown",
   "metadata": {},
   "source": []
  },
  {
   "cell_type": "code",
   "execution_count": 3,
   "metadata": {},
   "outputs": [],
   "source": [
    "from langgraph.graph import MessageGraph\n",
    "from langgraph.prebuilt import tools_condition\n",
    "\n",
    "\n",
    "class Steps:\n",
    "    CHAT = \"chatbot\"\n",
    "    TOOLS = \"tools\"\n",
    "    FINAL = \"final\"\n",
    "\n",
    "\n",
    "builder = MessageGraph()\n",
    "\n",
    "builder.set_entry_point(Steps.CHAT)\n",
    "builder.add_node(Steps.TOOLS, tool_node)\n",
    "builder.add_node(Steps.CHAT, llm)\n",
    "builder.add_edge(Steps.TOOLS, Steps.CHAT)\n",
    "\n",
    "builder.add_conditional_edges(Steps.CHAT, tools_condition)\n",
    "\n",
    "graph = builder.compile()"
   ]
  },
  {
   "cell_type": "code",
   "execution_count": null,
   "metadata": {},
   "outputs": [],
   "source": [
    "for s in graph.stream(\n",
    "    (\n",
    "        \"human\",\n",
    "        \"what is 2 + 2? Also what is the weather in Paris? Also what is 3 + 3 + 3 and then what is the time in london?\",\n",
    "    ),\n",
    "    stream_mode=\"values\",\n",
    "):\n",
    "    s[-1].pretty_print()"
   ]
  }
 ],
 "metadata": {
  "kernelspec": {
   "display_name": ".venv",
   "language": "python",
   "name": "python3"
  },
  "language_info": {
   "codemirror_mode": {
    "name": "ipython",
    "version": 3
   },
   "file_extension": ".py",
   "mimetype": "text/x-python",
   "name": "python",
   "nbconvert_exporter": "python",
   "pygments_lexer": "ipython3",
   "version": "3.12.4"
  }
 },
 "nbformat": 4,
 "nbformat_minor": 2
}
