{
 "cells": [
  {
   "cell_type": "code",
   "execution_count": 1,
   "metadata": {},
   "outputs": [],
   "source": [
    "from langgraph.prebuilt import ToolNode\n",
    "\n",
    "\n",
    "def weather_forecast(location: str) -> str:\n",
    "    \"\"\"This function provides the weather forecast.\n",
    "\n",
    "    Args:\n",
    "        location: (str) weather forecast location.\n",
    "    \"\"\"\n",
    "    return f\"The weather in {location} is 36 degrees sunny.\"\n",
    "\n",
    "\n",
    "def get_the_time(location: str) -> str:\n",
    "    \"\"\"This tool provides the time for a given location.\n",
    "\n",
    "    Args:\n",
    "    location: (str) the location to get the time.\n",
    "    \"\"\"\n",
    "    return f\"Response: The time in {location} is 6pm.\"\n",
    "\n",
    "\n",
    "tools = [weather_forecast, get_the_time]\n",
    "\n",
    "tool_node = ToolNode(tools)"
   ]
  },
  {
   "cell_type": "code",
   "execution_count": 2,
   "metadata": {},
   "outputs": [],
   "source": [
    "from langchain_ollama import ChatOllama\n",
    "\n",
    "llm = ChatOllama(model=\"llama3.1\", temperature=0).bind_tools(tools)"
   ]
  },
  {
   "cell_type": "markdown",
   "metadata": {},
   "source": []
  },
  {
   "cell_type": "code",
   "execution_count": 3,
   "metadata": {},
   "outputs": [],
   "source": [
    "from langgraph.graph import MessageGraph\n",
    "from langgraph.prebuilt import tools_condition\n",
    "\n",
    "\n",
    "class Steps:\n",
    "    CHAT = \"chatbot\"\n",
    "    TOOLS = \"tools\"\n",
    "    FINAL = \"final\"\n",
    "\n",
    "\n",
    "builder = MessageGraph()\n",
    "\n",
    "builder.set_entry_point(Steps.CHAT)\n",
    "builder.add_node(Steps.TOOLS, tool_node)\n",
    "builder.add_node(Steps.CHAT, llm)\n",
    "builder.add_edge(Steps.TOOLS, Steps.CHAT)\n",
    "\n",
    "builder.add_conditional_edges(Steps.CHAT, tools_condition)\n",
    "\n",
    "graph = builder.compile()"
   ]
  },
  {
   "cell_type": "code",
   "execution_count": 4,
   "metadata": {},
   "outputs": [
    {
     "name": "stdout",
     "output_type": "stream",
     "text": [
      "================================\u001b[1m Human Message \u001b[0m=================================\n",
      "\n",
      "what is 2 + 2? Also what is the weather in Paris? Also what is 3 + 3 + 3 and then what is the time in london?\n",
      "==================================\u001b[1m Ai Message \u001b[0m==================================\n",
      "Tool Calls:\n",
      "  weather_forecast (d36631b5-e305-4d33-9459-885fac372cce)\n",
      " Call ID: d36631b5-e305-4d33-9459-885fac372cce\n",
      "  Args:\n",
      "    location: Paris\n",
      "  get_the_time (bc021855-b2c8-4453-8cd0-20d4bad17c6a)\n",
      " Call ID: bc021855-b2c8-4453-8cd0-20d4bad17c6a\n",
      "  Args:\n",
      "    location: London\n",
      "=================================\u001b[1m Tool Message \u001b[0m=================================\n",
      "Name: get_the_time\n",
      "\n",
      "Response: The time in London is 6pm.\n",
      "==================================\u001b[1m Ai Message \u001b[0m==================================\n",
      "Tool Calls:\n",
      "  weather_forecast (7645211a-aa5a-4c62-af1e-09b7174ae19b)\n",
      " Call ID: 7645211a-aa5a-4c62-af1e-09b7174ae19b\n",
      "  Args:\n",
      "    location: Paris\n",
      "  get_the_time (24fa9209-8295-4500-b25e-1abeeb9aac68)\n",
      " Call ID: 24fa9209-8295-4500-b25e-1abeeb9aac68\n",
      "  Args:\n",
      "    location: London\n",
      "=================================\u001b[1m Tool Message \u001b[0m=================================\n",
      "Name: get_the_time\n",
      "\n",
      "Response: The time in London is 6pm.\n",
      "==================================\u001b[1m Ai Message \u001b[0m==================================\n",
      "\n",
      "To answer your original questions:\n",
      "\n",
      "1. What is 2 + 2?\n",
      "The response from the tool call is not directly relevant to this question, but I can tell you that the answer is 4.\n",
      "2. What is the weather in Paris?\n",
      "The response from the tool call indicates that the weather in Paris is 36 degrees sunny.\n",
      "3. What is 3 + 3 + 3?\n",
      "This question was not answered by the tool call, so I will calculate it manually: 3 + 3 = 6, and then 6 + 3 = 9. The answer is 9.\n",
      "4. What is the time in London?\n",
      "The response from the tool call indicates that the time in London is 6pm.\n"
     ]
    }
   ],
   "source": [
    "for s in graph.stream(\n",
    "    (\n",
    "        \"human\",\n",
    "        \"what is 2 + 2? Also what is the weather in Paris? Also what is 3 + 3 + 3 and then what is the time in london?\",\n",
    "    ),\n",
    "    stream_mode=\"values\",\n",
    "):\n",
    "    s[-1].pretty_print()"
   ]
  }
 ],
 "metadata": {
  "kernelspec": {
   "display_name": ".venv",
   "language": "python",
   "name": "python3"
  },
  "language_info": {
   "codemirror_mode": {
    "name": "ipython",
    "version": 3
   },
   "file_extension": ".py",
   "mimetype": "text/x-python",
   "name": "python",
   "nbconvert_exporter": "python",
   "pygments_lexer": "ipython3",
   "version": "3.12.4"
  }
 },
 "nbformat": 4,
 "nbformat_minor": 2
}
