{
 "cells": [
  {
   "cell_type": "code",
   "execution_count": 1,
   "metadata": {},
   "outputs": [],
   "source": [
    "from langchain_ollama import ChatOllama\n",
    "from langgraph.prebuilt import create_react_agent\n",
    "\n",
    "\n",
    "def weather_forecast(location: str) -> str:\n",
    "    \"\"\"This tool provides the weather forecast for a given location.\"\"\"\n",
    "    return f\"Response: The weather in {location} is hot.\"\n",
    "\n",
    "\n",
    "def get_the_time(location: str) -> str:\n",
    "    \"\"\"This tool provides the time for a given location.\"\"\"\n",
    "    return f\"Response: The time in {location} is 6pm.\"\n",
    "\n",
    "\n",
    "tools = [weather_forecast, get_the_time]\n",
    "\n",
    "\n",
    "model = ChatOllama(model=\"llama3.1\", temperature=0)"
   ]
  },
  {
   "cell_type": "code",
   "execution_count": 2,
   "metadata": {},
   "outputs": [
    {
     "name": "stdout",
     "output_type": "stream",
     "text": [
      "================================\u001b[1m Human Message \u001b[0m=================================\n",
      "\n",
      "what is 1 + 1? Also what is the weather in Paris, and what time is it there?\n",
      "==================================\u001b[1m Ai Message \u001b[0m==================================\n",
      "Tool Calls:\n",
      "  weather_forecast (2c808546-1167-4063-8cc0-557a7dbd8cc1)\n",
      " Call ID: 2c808546-1167-4063-8cc0-557a7dbd8cc1\n",
      "  Args:\n",
      "    location: Paris\n",
      "  get_the_time (9ac7fc25-a41e-4ba2-aa83-bf961faf24a1)\n",
      " Call ID: 9ac7fc25-a41e-4ba2-aa83-bf961faf24a1\n",
      "  Args:\n",
      "    location: Paris\n",
      "=================================\u001b[1m Tool Message \u001b[0m=================================\n",
      "Name: get_the_time\n",
      "\n",
      "Response: The time in Paris is 6pm.\n",
      "==================================\u001b[1m Ai Message \u001b[0m==================================\n",
      "\n",
      "Based on the tool call responses, here are the answers to your original questions:\n",
      "\n",
      "1. What is 1 + 1?\n",
      "The answer is: 2 (Note: This was not a question that required a tool call response, but rather a simple arithmetic operation)\n",
      "\n",
      "2. What is the weather in Paris?\n",
      "The answer is: Hot\n",
      "\n",
      "3. What time is it in Paris?\n",
      "The answer is: 6pm\n"
     ]
    }
   ],
   "source": [
    "graph = create_react_agent(model, tools)\n",
    "\n",
    "for messages in graph.stream(\n",
    "    {\n",
    "        \"messages\": [\n",
    "            (\n",
    "                \"user\",\n",
    "                \"what is 1 + 1? Also what is the weather in Paris, and what time is it there?\",\n",
    "            )\n",
    "        ]\n",
    "    },\n",
    "    stream_mode=\"values\",\n",
    "):\n",
    "    messages[\"messages\"][-1].pretty_print()"
   ]
  }
 ],
 "metadata": {
  "kernelspec": {
   "display_name": ".venv",
   "language": "python",
   "name": "python3"
  },
  "language_info": {
   "codemirror_mode": {
    "name": "ipython",
    "version": 3
   },
   "file_extension": ".py",
   "mimetype": "text/x-python",
   "name": "python",
   "nbconvert_exporter": "python",
   "pygments_lexer": "ipython3",
   "version": "3.12.4"
  }
 },
 "nbformat": 4,
 "nbformat_minor": 2
}
