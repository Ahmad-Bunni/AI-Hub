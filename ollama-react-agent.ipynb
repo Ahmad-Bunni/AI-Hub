{
 "cells": [
  {
   "cell_type": "code",
   "execution_count": null,
   "metadata": {},
   "outputs": [],
   "source": [
    "from langchain_core.tools import tool\n",
    "from langchain_experimental.llms.ollama_functions import OllamaFunctions\n",
    "from langgraph.prebuilt import create_react_agent\n",
    "\n",
    "\n",
    "@tool\n",
    "def weather_forecast(location: str) -> str:\n",
    "    \"\"\"This tool provides the weather forecast for a given location.\"\"\"\n",
    "    return f\"Response: The weather in {location} is hot.\"\n",
    "\n",
    "\n",
    "@tool\n",
    "def get_the_time(location: str) -> str:\n",
    "    \"\"\"This tool provides the time for a given location.\"\"\"\n",
    "    return f\"Response: The time in {location} is 6pm.\"\n",
    "\n",
    "\n",
    "tools = [weather_forecast, get_the_time]\n",
    "\n",
    "\n",
    "model = OllamaFunctions(\n",
    "    model=\"llama3.1\",\n",
    "    format=\"json\",\n",
    "    temperature=0,\n",
    "    system=\"You are a helpful assistant, you can call one or multiple tools.\",\n",
    ")"
   ]
  },
  {
   "cell_type": "code",
   "execution_count": null,
   "metadata": {},
   "outputs": [],
   "source": [
    "graph = create_react_agent(model, tools)\n",
    "\n",
    "for messages in graph.stream(\n",
    "    {\n",
    "        \"messages\": [\n",
    "            (\n",
    "                \"user\",\n",
    "                \"what is the weather in Paris?\",\n",
    "            )\n",
    "        ]\n",
    "    },\n",
    "    stream_mode=\"values\",\n",
    "):\n",
    "    messages[\"messages\"][-1].pretty_print()"
   ]
  }
 ],
 "metadata": {
  "kernelspec": {
   "display_name": ".venv",
   "language": "python",
   "name": "python3"
  },
  "language_info": {
   "codemirror_mode": {
    "name": "ipython",
    "version": 3
   },
   "file_extension": ".py",
   "mimetype": "text/x-python",
   "name": "python",
   "nbconvert_exporter": "python",
   "pygments_lexer": "ipython3",
   "version": "3.12.4"
  }
 },
 "nbformat": 4,
 "nbformat_minor": 2
}
