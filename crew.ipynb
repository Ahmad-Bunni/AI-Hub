{
 "cells": [
  {
   "cell_type": "code",
   "execution_count": null,
   "metadata": {},
   "outputs": [],
   "source": [
    "from crewai import Agent, Crew, Task\n",
    "from crewai.process import Process\n",
    "from langchain_ollama import ChatOllama\n",
    "\n",
    "llm = ChatOllama(model=\"llama3.1\", temperature=0)\n",
    "\n",
    "\n",
    "mathematician = Agent(\n",
    "    role=\"Price calculator\",\n",
    "    goal=\"Calculate the price of cars given that each car is 5k\",\n",
    "    backstory=\"You're an expert price calculator, specialized in pricing.\",\n",
    "    allow_delegation=False,\n",
    "    llm=llm,\n",
    "    verbose=False,\n",
    ")\n",
    "\n",
    "sales = Agent(\n",
    "    role=\"Sales Person\",\n",
    "    goal=\"You provide a deal based on the total amount. If the total amount of the sale is more than 10k then give a 10% discount on the total, otherwise give 30% discount.\",\n",
    "    backstory=\"You're a sales person you offer deals based on the total price.\",\n",
    "    allow_delegation=False,\n",
    "    llm=llm,\n",
    "    verbose=False,\n",
    ")\n",
    "\n",
    "task = Task(\n",
    "    description=\"How much is the price for 3 cars do i get a discount?\",\n",
    "    expected_output=\"final summerized answer always organized it in a readable way.\",\n",
    ")\n",
    "\n",
    "manager = Agent(\n",
    "    role=\"Manager\",\n",
    "    goal=\"Collect answers from the accountant and sales person to come up with the final price.\",\n",
    "    backstory=\"You're an experienced crew manager. Your role is to coordinate the efforts of the crew members, ensuring that each task is completed.\",\n",
    "    allow_delegation=True,\n",
    "    llm=llm,\n",
    "    verbose=False,\n",
    ")\n",
    "\n",
    "# Instantiate your crew with a custom manager\n",
    "crew = Crew(\n",
    "    agents=[mathematician, sales],\n",
    "    tasks=[task],\n",
    "    manager_agent=manager,\n",
    "    process=Process.hierarchical,\n",
    "    verbose=False,\n",
    ")\n",
    "\n",
    "# Start the crew's work\n",
    "result = crew.kickoff()\n",
    "print(result.raw)"
   ]
  }
 ],
 "metadata": {
  "kernelspec": {
   "display_name": ".venv",
   "language": "python",
   "name": "python3"
  },
  "language_info": {
   "codemirror_mode": {
    "name": "ipython",
    "version": 3
   },
   "file_extension": ".py",
   "mimetype": "text/x-python",
   "name": "python",
   "nbconvert_exporter": "python",
   "pygments_lexer": "ipython3",
   "version": "3.12.4"
  }
 },
 "nbformat": 4,
 "nbformat_minor": 2
}
