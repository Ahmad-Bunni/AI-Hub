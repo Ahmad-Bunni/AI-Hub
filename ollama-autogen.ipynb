{
 "cells": [
  {
   "cell_type": "code",
   "execution_count": null,
   "metadata": {},
   "outputs": [],
   "source": [
    "from autogen import ConversableAgent\n",
    "\n",
    "\n",
    "def weather_forecast(location: str) -> str:\n",
    "    \"\"\"This tool provides the weather forecast for a given location.\"\"\"\n",
    "    return f\"The weather in {location} is hot.\"\n",
    "\n",
    "\n",
    "# Create config for the agents\n",
    "config_list = [\n",
    "    {\n",
    "        \"model\": \"mistral\",\n",
    "        \"base_url\": \"http://127.0.0.1:4000\",\n",
    "        \"temperature\": 0,\n",
    "        \"api_key\": \"ollama\",\n",
    "        \"price\": [0, 0],\n",
    "        \"cache_seed\": None,\n",
    "    }\n",
    "]\n",
    "\n",
    "assistant = ConversableAgent(\n",
    "    name=\"Assistant\",\n",
    "    system_message=\"You are a helpful assistant. Return 'TERMINATE' when the task is complete.\",\n",
    "    llm_config={\n",
    "        \"config_list\": config_list,\n",
    "    },\n",
    ")\n",
    "\n",
    "\n",
    "assistant.register_for_llm(\n",
    "    name=\"weather_forecast\",\n",
    "    description=\"This tool provides the weather for a given location.\",\n",
    ")(weather_forecast)\n",
    "\n",
    "\n",
    "user_proxy = ConversableAgent(\n",
    "    name=\"User\",\n",
    "    llm_config=False,\n",
    "    is_termination_msg=lambda msg: msg.get(\"content\") is not None\n",
    "    and \"TERMINATE\" in msg[\"content\"],\n",
    "    human_input_mode=\"NEVER\",\n",
    ")\n",
    "\n",
    "user_proxy.register_for_execution(name=\"weather_forecast\")(weather_forecast)\n",
    "\n",
    "chat_result = user_proxy.initiate_chat(\n",
    "    assistant, message=\"How is the weather in Paris?\"\n",
    ")"
   ]
  }
 ],
 "metadata": {
  "kernelspec": {
   "display_name": ".venv",
   "language": "python",
   "name": "python3"
  },
  "language_info": {
   "codemirror_mode": {
    "name": "ipython",
    "version": 3
   },
   "file_extension": ".py",
   "mimetype": "text/x-python",
   "name": "python",
   "nbconvert_exporter": "python",
   "pygments_lexer": "ipython3",
   "version": "3.12.4"
  }
 },
 "nbformat": 4,
 "nbformat_minor": 2
}
