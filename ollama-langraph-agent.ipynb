{
 "cells": [
  {
   "cell_type": "code",
   "execution_count": null,
   "metadata": {},
   "outputs": [],
   "source": [
    "from langchain_core.tools import tool\n",
    "from langgraph.prebuilt import ToolNode\n",
    "\n",
    "\n",
    "@tool()\n",
    "def weather_forecast(location: str):\n",
    "    \"\"\"Use this function to get weather forcast information for a given location e.g France.\"\"\"\n",
    "    return f\"Forecast: {location} is 36 degrees sunny.\"\n",
    "\n",
    "\n",
    "tools = [weather_forecast]\n",
    "\n",
    "tool_node = ToolNode(tools)"
   ]
  },
  {
   "cell_type": "code",
   "execution_count": null,
   "metadata": {},
   "outputs": [],
   "source": [
    "from langchain_experimental.llms.ollama_functions import OllamaFunctions\n",
    "\n",
    "llm = OllamaFunctions(model=\"llama3.1\", format=\"json\", temperature=0, keep_alive=\"30m\")\n",
    "\n",
    "llm_with_tools = llm.bind_tools(tools)"
   ]
  },
  {
   "cell_type": "code",
   "execution_count": null,
   "metadata": {},
   "outputs": [],
   "source": [
    "llm_with_tools = llm.bind_tools(tools)"
   ]
  },
  {
   "cell_type": "markdown",
   "metadata": {},
   "source": []
  },
  {
   "cell_type": "code",
   "execution_count": null,
   "metadata": {},
   "outputs": [],
   "source": [
    "from langgraph.checkpoint.memory import MemorySaver\n",
    "from langgraph.graph import MessageGraph\n",
    "from langgraph.prebuilt import tools_condition\n",
    "\n",
    "memory = MemorySaver()\n",
    "\n",
    "\n",
    "class Steps:\n",
    "    CHAT = \"chatbot\"\n",
    "    TOOLS = \"tools\"\n",
    "    FINAL = \"final\"\n",
    "\n",
    "\n",
    "builder = MessageGraph()\n",
    "\n",
    "builder.set_entry_point(Steps.CHAT)\n",
    "builder.add_node(Steps.TOOLS, tool_node)\n",
    "builder.add_node(Steps.CHAT, llm_with_tools)\n",
    "builder.add_node(Steps.FINAL, llm)\n",
    "builder.add_edge(Steps.TOOLS, Steps.FINAL)\n",
    "\n",
    "builder.add_conditional_edges(Steps.CHAT, tools_condition)\n",
    "\n",
    "graph = builder.compile(checkpointer=memory)"
   ]
  },
  {
   "cell_type": "code",
   "execution_count": null,
   "metadata": {},
   "outputs": [],
   "source": [
    "for s in graph.stream(\n",
    "    (\"human\", \"what is the weather like in Paris?\"),\n",
    "    {\"configurable\": {\"thread_id\": \"thread-1\"}},\n",
    "    stream_mode=\"values\",\n",
    "):\n",
    "    s[-1].pretty_print()"
   ]
  }
 ],
 "metadata": {
  "kernelspec": {
   "display_name": ".venv",
   "language": "python",
   "name": "python3"
  },
  "language_info": {
   "codemirror_mode": {
    "name": "ipython",
    "version": 3
   },
   "file_extension": ".py",
   "mimetype": "text/x-python",
   "name": "python",
   "nbconvert_exporter": "python",
   "pygments_lexer": "ipython3",
   "version": "3.12.4"
  }
 },
 "nbformat": 4,
 "nbformat_minor": 2
}
