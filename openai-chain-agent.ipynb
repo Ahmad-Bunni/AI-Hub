{
 "cells": [
  {
   "cell_type": "code",
   "execution_count": null,
   "metadata": {},
   "outputs": [],
   "source": [
    "from langchain_openai import ChatOpenAI\n",
    "from langgraph.prebuilt import create_react_agent\n",
    "\n",
    "\n",
    "def weather_forecast(location: str):\n",
    "    \"\"\"Weather forecast tool.\"\"\"\n",
    "    return f\"{location} is hot.\"\n",
    "\n",
    "\n",
    "tools = [weather_forecast]\n",
    "\n",
    "\n",
    "model = ChatOpenAI(\n",
    "    model=\"gpt-4o-mini\",\n",
    "    temperature=0,\n",
    "    api_key=\"\",\n",
    ")\n",
    "\n",
    "\n",
    "graph = create_react_agent(model, tools)\n",
    "\n",
    "\n",
    "for messages in graph.stream(\n",
    "    {\"messages\": [(\"user\", \"what is 2 + 2?\")]},\n",
    "    stream_mode=\"values\",\n",
    "):\n",
    "    messages[\"messages\"][-1].pretty_print()"
   ]
  }
 ],
 "metadata": {
  "kernelspec": {
   "display_name": ".venv",
   "language": "python",
   "name": "python3"
  },
  "language_info": {
   "codemirror_mode": {
    "name": "ipython",
    "version": 3
   },
   "file_extension": ".py",
   "mimetype": "text/x-python",
   "name": "python",
   "nbconvert_exporter": "python",
   "pygments_lexer": "ipython3",
   "version": "3.12.4"
  }
 },
 "nbformat": 4,
 "nbformat_minor": 2
}
