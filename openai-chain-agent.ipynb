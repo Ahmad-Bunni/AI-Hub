{
 "cells": [
  {
   "cell_type": "code",
   "execution_count": 1,
   "metadata": {},
   "outputs": [
    {
     "name": "stdout",
     "output_type": "stream",
     "text": [
      "================================\u001b[1m Human Message \u001b[0m=================================\n",
      "\n",
      "what is 2 + 2?\n",
      "==================================\u001b[1m Ai Message \u001b[0m==================================\n",
      "\n",
      "2 + 2 equals 4.\n"
     ]
    }
   ],
   "source": [
    "from langchain.pydantic_v1 import BaseModel, Field\n",
    "from langchain_core.tools import tool\n",
    "from langchain_openai import ChatOpenAI\n",
    "from langgraph.prebuilt import create_react_agent\n",
    "\n",
    "\n",
    "class WeatherForcastInput(BaseModel):\n",
    "    location: str = Field(description=\"location to forcast\")\n",
    "\n",
    "\n",
    "@tool(args_schema=WeatherForcastInput)\n",
    "def weather_forecast(location: str):\n",
    "    \"\"\"Weather forecast tool.\"\"\"\n",
    "    return f\"{location} is hot.\"\n",
    "\n",
    "\n",
    "tools = [weather_forecast]\n",
    "\n",
    "\n",
    "model = ChatOpenAI(\n",
    "    model=\"gpt-4o-mini\",\n",
    "    temperature=0,\n",
    "    api_key=\"\",\n",
    ")\n",
    "\n",
    "\n",
    "graph = create_react_agent(model, tools)\n",
    "\n",
    "\n",
    "for messages in graph.stream(\n",
    "    {\"messages\": [(\"user\", \"what is 2 + 2?\")]},\n",
    "    stream_mode=\"values\",\n",
    "):\n",
    "    messages[\"messages\"][-1].pretty_print()"
   ]
  }
 ],
 "metadata": {
  "kernelspec": {
   "display_name": ".venv",
   "language": "python",
   "name": "python3"
  },
  "language_info": {
   "codemirror_mode": {
    "name": "ipython",
    "version": 3
   },
   "file_extension": ".py",
   "mimetype": "text/x-python",
   "name": "python",
   "nbconvert_exporter": "python",
   "pygments_lexer": "ipython3",
   "version": "3.12.4"
  }
 },
 "nbformat": 4,
 "nbformat_minor": 2
}
